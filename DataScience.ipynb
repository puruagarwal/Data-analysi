{
 "cells": [
  {
   "cell_type": "code",
   "execution_count": 21,
   "metadata": {},
   "outputs": [],
   "source": [
    "import pandas as pd\n",
    "from sklearn.model_selection import train_test_split\n",
    "from sklearn.linear_model import LogisticRegression\n",
    "from sklearn.ensemble import RandomForestClassifier\n",
    "from sklearn.svm import SVC\n",
    "from sklearn.linear_model import LogisticRegression\n",
    "from sklearn.ensemble import RandomForestClassifier\n",
    "from sklearn.metrics import classification_report, accuracy_score\n",
    "from imblearn.over_sampling import SMOTE\n",
    "import xgboost as xgb\n"
   ]
  },
  {
   "cell_type": "code",
   "execution_count": 2,
   "metadata": {},
   "outputs": [],
   "source": [
    "test=pd.read_csv(\"test.csv\")\n",
    "df=pd.read_csv(\"train.csv\")"
   ]
  },
  {
   "cell_type": "code",
   "execution_count": 3,
   "metadata": {},
   "outputs": [
    {
     "data": {
      "text/html": [
       "<div>\n",
       "<style scoped>\n",
       "    .dataframe tbody tr th:only-of-type {\n",
       "        vertical-align: middle;\n",
       "    }\n",
       "\n",
       "    .dataframe tbody tr th {\n",
       "        vertical-align: top;\n",
       "    }\n",
       "\n",
       "    .dataframe thead th {\n",
       "        text-align: right;\n",
       "    }\n",
       "</style>\n",
       "<table border=\"1\" class=\"dataframe\">\n",
       "  <thead>\n",
       "    <tr style=\"text-align: right;\">\n",
       "      <th></th>\n",
       "      <th>timestamp</th>\n",
       "      <th>value</th>\n",
       "      <th>is_anomaly</th>\n",
       "      <th>predicted</th>\n",
       "    </tr>\n",
       "  </thead>\n",
       "  <tbody>\n",
       "    <tr>\n",
       "      <th>0</th>\n",
       "      <td>1425008573</td>\n",
       "      <td>42</td>\n",
       "      <td>False</td>\n",
       "      <td>44.072500</td>\n",
       "    </tr>\n",
       "    <tr>\n",
       "      <th>1</th>\n",
       "      <td>1425008873</td>\n",
       "      <td>41</td>\n",
       "      <td>False</td>\n",
       "      <td>50.709390</td>\n",
       "    </tr>\n",
       "    <tr>\n",
       "      <th>2</th>\n",
       "      <td>1425009173</td>\n",
       "      <td>41</td>\n",
       "      <td>False</td>\n",
       "      <td>81.405120</td>\n",
       "    </tr>\n",
       "    <tr>\n",
       "      <th>3</th>\n",
       "      <td>1425009473</td>\n",
       "      <td>61</td>\n",
       "      <td>False</td>\n",
       "      <td>39.950367</td>\n",
       "    </tr>\n",
       "    <tr>\n",
       "      <th>4</th>\n",
       "      <td>1425009773</td>\n",
       "      <td>44</td>\n",
       "      <td>False</td>\n",
       "      <td>35.350160</td>\n",
       "    </tr>\n",
       "  </tbody>\n",
       "</table>\n",
       "</div>"
      ],
      "text/plain": [
       "    timestamp  value  is_anomaly  predicted\n",
       "0  1425008573     42       False  44.072500\n",
       "1  1425008873     41       False  50.709390\n",
       "2  1425009173     41       False  81.405120\n",
       "3  1425009473     61       False  39.950367\n",
       "4  1425009773     44       False  35.350160"
      ]
     },
     "execution_count": 3,
     "metadata": {},
     "output_type": "execute_result"
    }
   ],
   "source": [
    "df.head()"
   ]
  },
  {
   "cell_type": "code",
   "execution_count": 4,
   "metadata": {},
   "outputs": [
    {
     "name": "stdout",
     "output_type": "stream",
     "text": [
      "<class 'pandas.core.frame.DataFrame'>\n",
      "RangeIndex: 15830 entries, 0 to 15829\n",
      "Data columns (total 4 columns):\n",
      " #   Column      Non-Null Count  Dtype  \n",
      "---  ------      --------------  -----  \n",
      " 0   timestamp   15830 non-null  int64  \n",
      " 1   value       15830 non-null  int64  \n",
      " 2   is_anomaly  15830 non-null  bool   \n",
      " 3   predicted   15830 non-null  float64\n",
      "dtypes: bool(1), float64(1), int64(2)\n",
      "memory usage: 386.6 KB\n"
     ]
    }
   ],
   "source": [
    "df.info()"
   ]
  },
  {
   "cell_type": "code",
   "execution_count": 5,
   "metadata": {},
   "outputs": [
    {
     "data": {
      "text/plain": [
       "<bound method NDFrame.describe of         timestamp  value  is_anomaly  predicted\n",
       "0      1425008573     42       False  44.072500\n",
       "1      1425008873     41       False  50.709390\n",
       "2      1425009173     41       False  81.405120\n",
       "3      1425009473     61       False  39.950367\n",
       "4      1425009773     44       False  35.350160\n",
       "...           ...    ...         ...        ...\n",
       "15825  1429756073     44       False  53.624115\n",
       "15826  1429756373     45       False  59.752296\n",
       "15827  1429756673     48       False  52.147630\n",
       "15828  1429756973     26       False  58.007545\n",
       "15829  1429757273     38       False  59.144700\n",
       "\n",
       "[15830 rows x 4 columns]>"
      ]
     },
     "execution_count": 5,
     "metadata": {},
     "output_type": "execute_result"
    }
   ],
   "source": [
    "df.describe"
   ]
  },
  {
   "cell_type": "code",
   "execution_count": 6,
   "metadata": {},
   "outputs": [
    {
     "data": {
      "text/plain": [
       "0"
      ]
     },
     "execution_count": 6,
     "metadata": {},
     "output_type": "execute_result"
    }
   ],
   "source": [
    "df.duplicated().sum()"
   ]
  },
  {
   "cell_type": "code",
   "execution_count": 7,
   "metadata": {},
   "outputs": [
    {
     "data": {
      "text/plain": [
       "timestamp     0\n",
       "value         0\n",
       "is_anomaly    0\n",
       "predicted     0\n",
       "dtype: int64"
      ]
     },
     "execution_count": 7,
     "metadata": {},
     "output_type": "execute_result"
    }
   ],
   "source": [
    "df.isna().sum()"
   ]
  },
  {
   "cell_type": "code",
   "execution_count": 8,
   "metadata": {},
   "outputs": [
    {
     "data": {
      "text/plain": [
       "False    15054\n",
       "True       776\n",
       "Name: is_anomaly, dtype: int64"
      ]
     },
     "execution_count": 8,
     "metadata": {},
     "output_type": "execute_result"
    }
   ],
   "source": [
    "df['is_anomaly'].value_counts()"
   ]
  },
  {
   "cell_type": "code",
   "execution_count": 9,
   "metadata": {},
   "outputs": [
    {
     "data": {
      "text/plain": [
       "0        -2.072500\n",
       "1        -9.709390\n",
       "2       -40.405120\n",
       "3        21.049633\n",
       "4         8.649840\n",
       "           ...    \n",
       "15825    -9.624115\n",
       "15826   -14.752296\n",
       "15827    -4.147630\n",
       "15828   -32.007545\n",
       "15829   -21.144700\n",
       "Length: 15830, dtype: float64"
      ]
     },
     "execution_count": 9,
     "metadata": {},
     "output_type": "execute_result"
    }
   ],
   "source": [
    "df['value']-df['predicted']"
   ]
  },
  {
   "cell_type": "code",
   "execution_count": 10,
   "metadata": {},
   "outputs": [
    {
     "data": {
      "text/html": [
       "<div>\n",
       "<style scoped>\n",
       "    .dataframe tbody tr th:only-of-type {\n",
       "        vertical-align: middle;\n",
       "    }\n",
       "\n",
       "    .dataframe tbody tr th {\n",
       "        vertical-align: top;\n",
       "    }\n",
       "\n",
       "    .dataframe thead th {\n",
       "        text-align: right;\n",
       "    }\n",
       "</style>\n",
       "<table border=\"1\" class=\"dataframe\">\n",
       "  <thead>\n",
       "    <tr style=\"text-align: right;\">\n",
       "      <th></th>\n",
       "      <th>timestamp</th>\n",
       "      <th>value</th>\n",
       "      <th>is_anomaly</th>\n",
       "      <th>predicted</th>\n",
       "    </tr>\n",
       "  </thead>\n",
       "  <tbody>\n",
       "    <tr>\n",
       "      <th>timestamp</th>\n",
       "      <td>1.000000</td>\n",
       "      <td>0.032628</td>\n",
       "      <td>0.016457</td>\n",
       "      <td>0.030462</td>\n",
       "    </tr>\n",
       "    <tr>\n",
       "      <th>value</th>\n",
       "      <td>0.032628</td>\n",
       "      <td>1.000000</td>\n",
       "      <td>0.324859</td>\n",
       "      <td>0.445180</td>\n",
       "    </tr>\n",
       "    <tr>\n",
       "      <th>is_anomaly</th>\n",
       "      <td>0.016457</td>\n",
       "      <td>0.324859</td>\n",
       "      <td>1.000000</td>\n",
       "      <td>0.059719</td>\n",
       "    </tr>\n",
       "    <tr>\n",
       "      <th>predicted</th>\n",
       "      <td>0.030462</td>\n",
       "      <td>0.445180</td>\n",
       "      <td>0.059719</td>\n",
       "      <td>1.000000</td>\n",
       "    </tr>\n",
       "  </tbody>\n",
       "</table>\n",
       "</div>"
      ],
      "text/plain": [
       "            timestamp     value  is_anomaly  predicted\n",
       "timestamp    1.000000  0.032628    0.016457   0.030462\n",
       "value        0.032628  1.000000    0.324859   0.445180\n",
       "is_anomaly   0.016457  0.324859    1.000000   0.059719\n",
       "predicted    0.030462  0.445180    0.059719   1.000000"
      ]
     },
     "execution_count": 10,
     "metadata": {},
     "output_type": "execute_result"
    }
   ],
   "source": [
    "df.corr()"
   ]
  },
  {
   "cell_type": "code",
   "execution_count": 11,
   "metadata": {},
   "outputs": [],
   "source": [
    "X = df[['timestamp', 'value', 'predicted']]\n",
    "y = df['is_anomaly']\n",
    "X_train, X_test, y_train, y_test = train_test_split(X, y, test_size=0.2, random_state=42)"
   ]
  },
  {
   "cell_type": "code",
   "execution_count": 12,
   "metadata": {},
   "outputs": [
    {
     "name": "stdout",
     "output_type": "stream",
     "text": [
      "Accuracy: 0.9466203411244473\n",
      "Classification Report:\n",
      "               precision    recall  f1-score   support\n",
      "\n",
      "       False       0.95      1.00      0.97      2997\n",
      "        True       1.00      0.00      0.00       169\n",
      "\n",
      "    accuracy                           0.95      3166\n",
      "   macro avg       0.97      0.50      0.49      3166\n",
      "weighted avg       0.95      0.95      0.92      3166\n",
      "\n"
     ]
    }
   ],
   "source": [
    "svm_model = SVC(kernel='poly', C=1.0, gamma='scale')\n",
    "\n",
    "svm_model.fit(X_train, y_train)\n",
    "y_pred = svm_model.predict(X_test)\n",
    "accuracy = accuracy_score(y_test, y_pred)\n",
    "print(f\"Accuracy: {accuracy}\")\n",
    "print(\"Classification Report:\\n\", classification_report(y_test, y_pred, zero_division=1))"
   ]
  },
  {
   "cell_type": "code",
   "execution_count": 13,
   "metadata": {},
   "outputs": [
    {
     "name": "stdout",
     "output_type": "stream",
     "text": [
      "Logistic Regression:\n",
      "Accuracy: 0.9466203411244473\n",
      "Classification Report:\n",
      "               precision    recall  f1-score   support\n",
      "\n",
      "       False       0.95      1.00      0.97      2997\n",
      "        True       1.00      0.00      0.00       169\n",
      "\n",
      "    accuracy                           0.95      3166\n",
      "   macro avg       0.97      0.50      0.49      3166\n",
      "weighted avg       0.95      0.95      0.92      3166\n",
      "\n"
     ]
    }
   ],
   "source": [
    "lg_model = LogisticRegression(solver='liblinear', max_iter=1000)\n",
    "lg_model.fit(X_train, y_train)\n",
    "lg_ypred = lg_model.predict(X_test)\n",
    "print(\"Logistic Regression:\")\n",
    "print(f'Accuracy: {accuracy_score(y_test, lg_ypred)}')\n",
    "print(\"Classification Report:\\n\", classification_report(y_test, lg_ypred, zero_division=1))"
   ]
  },
  {
   "cell_type": "code",
   "execution_count": 14,
   "metadata": {},
   "outputs": [
    {
     "name": "stdout",
     "output_type": "stream",
     "text": [
      "\n",
      "Random Forest Classifier:\n",
      "Accuracy: 0.9718888186986734\n",
      "Classification Report:\n",
      "               precision    recall  f1-score   support\n",
      "\n",
      "       False       0.98      0.99      0.99      2997\n",
      "        True       0.82      0.60      0.70       169\n",
      "\n",
      "    accuracy                           0.97      3166\n",
      "   macro avg       0.90      0.80      0.84      3166\n",
      "weighted avg       0.97      0.97      0.97      3166\n",
      "\n"
     ]
    }
   ],
   "source": [
    "rfc_model = RandomForestClassifier()\n",
    "rfc_model.fit(X_train, y_train)\n",
    "rfc_ypred = rfc_model.predict(X_test)\n",
    "print(\"\\nRandom Forest Classifier:\")\n",
    "print(f'Accuracy: {accuracy_score(y_test, rfc_ypred)}')\n",
    "print(\"Classification Report:\\n\", classification_report(y_test, rfc_ypred, zero_division=1))"
   ]
  },
  {
   "cell_type": "code",
   "execution_count": 15,
   "metadata": {},
   "outputs": [
    {
     "name": "stdout",
     "output_type": "stream",
     "text": [
      "Accuracy: 0.9715729627289956\n",
      "Classification Report:\n",
      "               precision    recall  f1-score   support\n",
      "\n",
      "       False       0.98      0.99      0.99      2997\n",
      "        True       0.86      0.56      0.68       169\n",
      "\n",
      "    accuracy                           0.97      3166\n",
      "   macro avg       0.92      0.78      0.83      3166\n",
      "weighted avg       0.97      0.97      0.97      3166\n",
      "\n"
     ]
    }
   ],
   "source": [
    "xg = xgb.XGBClassifier(\n",
    "    objective='binary:logistic',  \n",
    "    eval_metric='logloss',             \n",
    "    n_estimators=100,             \n",
    "    learning_rate=0.1,            \n",
    "    max_depth=3  \n",
    ")\n",
    "xg.fit(X_train, y_train)\n",
    "xg_pred = xg.predict(X_test)\n",
    "accuracy = accuracy_score(y_test, xg_pred)\n",
    "print(f\"Accuracy: {accuracy}\")\n",
    "print(\"Classification Report:\\n\", classification_report(y_test, xg_pred, zero_division=1))\n",
    "\n"
   ]
  },
  {
   "cell_type": "markdown",
   "metadata": {},
   "source": [
    "## RESULTS before oversampling:\n",
    "\n",
    "### 1. SVC - 94.66 %\n",
    "### 2. Random Forest - 97.12 %\n",
    "### 3. XXGBOOST - 97.15 %\n",
    "### 4. Logistic Regression - 94.6 %"
   ]
  },
  {
   "cell_type": "code",
   "execution_count": 16,
   "metadata": {},
   "outputs": [
    {
     "name": "stdout",
     "output_type": "stream",
     "text": [
      "Class distribution before SMOTE: False    12057\n",
      "True       607\n",
      "Name: is_anomaly, dtype: int64\n",
      "Class distribution after SMOTE: False    12057\n",
      "True     12057\n",
      "Name: is_anomaly, dtype: int64\n"
     ]
    }
   ],
   "source": [
    "smote = SMOTE(random_state=42)\n",
    "X_train_resampled, y_train_resampled = smote.fit_resample(X_train, y_train)\n",
    "print(\"Class distribution before SMOTE:\", y_train.value_counts())\n",
    "print(\"Class distribution after SMOTE:\", y_train_resampled.value_counts())\n"
   ]
  },
  {
   "cell_type": "code",
   "execution_count": 17,
   "metadata": {},
   "outputs": [
    {
     "name": "stdout",
     "output_type": "stream",
     "text": [
      "Accuracy: 0.5022109917877448\n",
      "Classification Report:\n",
      "               precision    recall  f1-score   support\n",
      "\n",
      "       False       0.95      0.50      0.66      2997\n",
      "        True       0.06      0.55      0.11       169\n",
      "\n",
      "    accuracy                           0.50      3166\n",
      "   macro avg       0.51      0.52      0.38      3166\n",
      "weighted avg       0.90      0.50      0.63      3166\n",
      "\n"
     ]
    }
   ],
   "source": [
    "svm_model = SVC(kernel='poly', C=1.0, gamma='scale')\n",
    "\n",
    "svm_model.fit(X_train_resampled, y_train_resampled)\n",
    "y_pred = svm_model.predict(X_test)\n",
    "accuracy = accuracy_score(y_test, y_pred)\n",
    "print(f\"Accuracy: {accuracy}\")\n",
    "print(\"Classification Report:\\n\", classification_report(y_test, y_pred, zero_division=1))"
   ]
  },
  {
   "cell_type": "code",
   "execution_count": 18,
   "metadata": {},
   "outputs": [
    {
     "name": "stdout",
     "output_type": "stream",
     "text": [
      "Logistic Regression:\n",
      "Accuracy: 0.9478837650031585\n",
      "Classification Report:\n",
      "               precision    recall  f1-score   support\n",
      "\n",
      "       False       0.99      0.96      0.97      2997\n",
      "        True       0.51      0.75      0.60       169\n",
      "\n",
      "    accuracy                           0.95      3166\n",
      "   macro avg       0.75      0.85      0.79      3166\n",
      "weighted avg       0.96      0.95      0.95      3166\n",
      "\n"
     ]
    }
   ],
   "source": [
    "lg_model = LogisticRegression(solver='liblinear', max_iter=1000)\n",
    "lg_model.fit(X_train_resampled, y_train_resampled)\n",
    "lg_ypred = lg_model.predict(X_test)\n",
    "print(\"Logistic Regression:\")\n",
    "print(f'Accuracy: {accuracy_score(y_test, lg_ypred)}')\n",
    "print(\"Classification Report:\\n\", classification_report(y_test, lg_ypred, zero_division=1))"
   ]
  },
  {
   "cell_type": "code",
   "execution_count": 19,
   "metadata": {},
   "outputs": [
    {
     "name": "stdout",
     "output_type": "stream",
     "text": [
      "\n",
      "Random Forest Classifier:\n",
      "Accuracy: 0.9595704358812381\n",
      "Classification Report:\n",
      "               precision    recall  f1-score   support\n",
      "\n",
      "       False       0.99      0.97      0.98      2997\n",
      "        True       0.59      0.83      0.69       169\n",
      "\n",
      "    accuracy                           0.96      3166\n",
      "   macro avg       0.79      0.90      0.83      3166\n",
      "weighted avg       0.97      0.96      0.96      3166\n",
      "\n"
     ]
    }
   ],
   "source": [
    "rfc_model = RandomForestClassifier()\n",
    "rfc_model.fit(X_train_resampled, y_train_resampled)\n",
    "rfc_ypred = rfc_model.predict(X_test)\n",
    "print(\"\\nRandom Forest Classifier:\")\n",
    "print(f'Accuracy: {accuracy_score(y_test, rfc_ypred)}')\n",
    "print(\"Classification Report:\\n\", classification_report(y_test, rfc_ypred, zero_division=1))"
   ]
  },
  {
   "cell_type": "code",
   "execution_count": 20,
   "metadata": {},
   "outputs": [
    {
     "name": "stdout",
     "output_type": "stream",
     "text": [
      "Accuracy: 0.9456727732154138\n",
      "Classification Report:\n",
      "               precision    recall  f1-score   support\n",
      "\n",
      "       False       0.99      0.95      0.97      2997\n",
      "        True       0.49      0.87      0.63       169\n",
      "\n",
      "    accuracy                           0.95      3166\n",
      "   macro avg       0.74      0.91      0.80      3166\n",
      "weighted avg       0.97      0.95      0.95      3166\n",
      "\n"
     ]
    }
   ],
   "source": [
    "xg = xgb.XGBClassifier(\n",
    "    objective='binary:logistic',  \n",
    "    eval_metric='logloss',             \n",
    "    n_estimators=100,             \n",
    "    learning_rate=0.1,            \n",
    "    max_depth=3  \n",
    ")\n",
    "xg.fit(X_train_resampled, y_train_resampled)\n",
    "xg_pred = xg.predict(X_test)\n",
    "accuracy = accuracy_score(y_test, xg_pred)\n",
    "print(f\"Accuracy: {accuracy}\")\n",
    "print(\"Classification Report:\\n\", classification_report(y_test, xg_pred, zero_division=1))\n",
    "\n"
   ]
  },
  {
   "cell_type": "markdown",
   "metadata": {},
   "source": [
    "## RESULTS after oversampling:\n",
    "\n",
    "### 1. SVC - 50.02 %\n",
    "### 2. Random Forest - 95.95 %\n",
    "### 3. XXGBOOST - 94.56 %\n",
    "### 4. Logistic Regression - 94.7 %"
   ]
  }
 ],
 "metadata": {
  "kernelspec": {
   "display_name": "jkapi-0Ggu7FAl",
   "language": "python",
   "name": "python3"
  },
  "language_info": {
   "codemirror_mode": {
    "name": "ipython",
    "version": 3
   },
   "file_extension": ".py",
   "mimetype": "text/x-python",
   "name": "python",
   "nbconvert_exporter": "python",
   "pygments_lexer": "ipython3",
   "version": "3.10.11"
  }
 },
 "nbformat": 4,
 "nbformat_minor": 2
}
